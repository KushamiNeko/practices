{
 "cells": [
  {
   "cell_type": "code",
   "execution_count": 21,
   "metadata": {
    "collapsed": true
   },
   "outputs": [],
   "source": [
    "import os\n",
    "\n",
    "import numpy as np\n",
    "import matplotlib.pyplot as plt\n",
    "from PIL import Image\n",
    "\n",
    "import pickle\n",
    "\n",
    "def rle_decode(mask_rle, shape):\n",
    "    '''\n",
    "    mask_rle: run-length as string formated (start length)\n",
    "    shape: (height,width) of array to return \n",
    "    Returns numpy array, 1 - mask, 0 - background\n",
    "\n",
    "    '''\n",
    "    s = mask_rle.split()\n",
    "    starts, lengths = [np.asarray(x, dtype=int) for x in (s[0:][::2], s[1:][::2])]\n",
    "    starts -= 1\n",
    "    ends = starts + lengths\n",
    "    img = np.zeros(shape[0]*shape[1], dtype=np.uint8)\n",
    "    for lo, hi in zip(starts, ends):\n",
    "        img[lo:hi] = 1\n",
    "#     return img.reshape(shape)\n",
    "    return img"
   ]
  },
  {
   "cell_type": "code",
   "execution_count": 23,
   "metadata": {},
   "outputs": [
    {
     "name": "stdout",
     "output_type": "stream",
     "text": [
      "6254\n",
      "6254\n"
     ]
    }
   ],
   "source": [
    "ROOT = \"/run/media/onionhuang/HDD/ARTIFICIAL_INTELLIGENCE/KAGGLE_COMPETITIONS/Carvana_Image_Masking_Challenge\"\n",
    "\n",
    "with open(r\"../ml_engine/outputs/temp_.+_02.+\", \"rb\") as f:\n",
    "    predicts = pickle.load(f)\n",
    "    \n",
    "for index, file_name in enumerate(predicts[\"imgs\"][:1]):\n",
    "#     image_file = os.path.join(ROOT, \"test\", file_name.decode(\"utf-8\"))\n",
    "#     print(image_file)\n",
    "    \n",
    "#     print(predicts[\"imgs\"])\n",
    "    print(len(predicts[\"imgs\"]))\n",
    "    \n",
    "#     print(predicts[\"rle_masks\"][0])\n",
    "    print(len(predicts[\"rle_masks\"]))\n",
    "    \n",
    "#     with Image.open(image_file) as img:\n",
    "#         plt.imshow(img)\n",
    "#         plt.show()\n",
    "        \n",
    "#     predict_file = predicts[\"rle_masks\"][index]\n",
    "#     predict_decode = rle_decode(predict_file, [1280, 1918, 3])\n",
    "    \n",
    "#     predict_decode = np.resize(predict_decode*255, [1280, 1918, 3])\n",
    "    \n",
    "#     plt.imshow(predict_decode, cmap=plt.cm.binary)\n",
    "#     plt.show()"
   ]
  },
  {
   "cell_type": "code",
   "execution_count": 13,
   "metadata": {},
   "outputs": [
    {
     "name": "stdout",
     "output_type": "stream",
     "text": [
      "None\n"
     ]
    }
   ],
   "source": [
    "import re\n",
    "\n",
    "test = \"adadadds_01.jpg\"\n",
    "\n",
    "regex = re.compile(\".+_02.+\")\n",
    "\n",
    "print(regex.match(test))"
   ]
  },
  {
   "cell_type": "code",
   "execution_count": 13,
   "metadata": {},
   "outputs": [
    {
     "name": "stdout",
     "output_type": "stream",
     "text": [
      "100064\n",
      "0004d4463b50_01.jpg    622338 5 624094 21 624241 33 624278 20 626006 ...\n",
      "0004d4463b50_02.jpg    597437 10 599342 39 601225 5 601249 62 603138 ...\n",
      "0004d4463b50_03.jpg    614705 41 616600 98 618489 143 618655 6 620391...\n",
      "0004d4463b50_04.jpg    624341 28 624416 16 626169 250 628063 278 6299...\n",
      "0004d4463b50_05.jpg    495895 16 495937 5 497739 124 499657 124 50163...\n",
      "dtype: object\n"
     ]
    }
   ],
   "source": [
    "import pickle\n",
    "import os\n",
    "\n",
    "import pandas as pd\n",
    "\n",
    "predicts = {}\n",
    "\n",
    "for i in range(16):\n",
    "    with open(r\"../ml_engine/outputs/temp_.+_{:02d}.+\".format(i+1), \"rb\") as f:\n",
    "        predict = pickle.load(f)\n",
    "        \n",
    "        for image, mask in zip(predict[\"imgs\"], predict[\"rle_masks\"]):\n",
    "            \n",
    "            predicts[image] = mask\n",
    "#             print(image)\n",
    "#             print(mask)\n",
    "#             break\n",
    "\n",
    "print(len(predicts))\n",
    "\n",
    "predicts_df = pd.Series(predicts)\n",
    "print(predicts_df.head())\n",
    "\n",
    "predicts_df.to_csv(\"test.csv\", sep=\",\", index_label=\"img\", header=[\"rle_mask\"])"
   ]
  },
  {
   "cell_type": "code",
   "execution_count": null,
   "metadata": {
    "collapsed": true
   },
   "outputs": [],
   "source": []
  }
 ],
 "metadata": {
  "kernelspec": {
   "display_name": "Python 3",
   "language": "python",
   "name": "python3"
  },
  "language_info": {
   "codemirror_mode": {
    "name": "ipython",
    "version": 3
   },
   "file_extension": ".py",
   "mimetype": "text/x-python",
   "name": "python",
   "nbconvert_exporter": "python",
   "pygments_lexer": "ipython3",
   "version": "3.6.2"
  }
 },
 "nbformat": 4,
 "nbformat_minor": 2
}
